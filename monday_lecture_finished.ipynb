{
  "nbformat": 4,
  "nbformat_minor": 0,
  "metadata": {
    "kernelspec": {
      "display_name": "Python 3",
      "language": "python",
      "name": "python3"
    },
    "language_info": {
      "codemirror_mode": {
        "name": "ipython",
        "version": 3
      },
      "file_extension": ".py",
      "mimetype": "text/x-python",
      "name": "python",
      "nbconvert_exporter": "python",
      "pygments_lexer": "ipython3",
      "version": "3.8.8"
    },
    "colab": {
      "name": "monday_lecture_finished.ipynb",
      "provenance": [],
      "collapsed_sections": [
        "YfvkJ8jupeIR",
        "S7cd1ozSpeIR",
        "BmmRPByopeIZ",
        "zvRrEMkKpeIZ"
      ]
    }
  },
  "cells": [
    {
      "cell_type": "markdown",
      "metadata": {
        "id": "44dOFswPpeH8"
      },
      "source": [
        "# Week 2 - Monday Lesson (variable assignment, loops, lists)"
      ]
    },
    {
      "cell_type": "markdown",
      "metadata": {
        "id": "XK2-eOIupeIA"
      },
      "source": [
        "## Tasks Today:\n",
        "\n",
        "1) Int & Float assignments <br>\n",
        " &nbsp;&nbsp;&nbsp;&nbsp; a) Assigning int <br>\n",
        " &nbsp;&nbsp;&nbsp;&nbsp; b) Assigning float <br>\n",
        " &nbsp;&nbsp;&nbsp;&nbsp; c) Performing Calculations on ints and floats <br>\n",
        " &nbsp;&nbsp;&nbsp;&nbsp;&nbsp;&nbsp;&nbsp;&nbsp; - Addition <br>\n",
        " &nbsp;&nbsp;&nbsp;&nbsp;&nbsp;&nbsp;&nbsp;&nbsp; - Subtraction <br>\n",
        " &nbsp;&nbsp;&nbsp;&nbsp;&nbsp;&nbsp;&nbsp;&nbsp; - Multiplication <br>\n",
        " &nbsp;&nbsp;&nbsp;&nbsp;&nbsp;&nbsp;&nbsp;&nbsp; - Division <br>\n",
        " &nbsp;&nbsp;&nbsp;&nbsp;&nbsp;&nbsp;&nbsp;&nbsp; - Floor Division <br>\n",
        " &nbsp;&nbsp;&nbsp;&nbsp;&nbsp;&nbsp;&nbsp;&nbsp; - Modulo <br>\n",
        " &nbsp;&nbsp;&nbsp;&nbsp;&nbsp;&nbsp;&nbsp;&nbsp; - Exponential <br>\n",
        "2) String Input-Output <br>\n",
        " &nbsp;&nbsp;&nbsp;&nbsp; a) String Assignment <br>\n",
        " &nbsp;&nbsp;&nbsp;&nbsp; b) print() <br>\n",
        " &nbsp;&nbsp;&nbsp;&nbsp; c) String Concatenation <br>\n",
        " &nbsp;&nbsp;&nbsp;&nbsp; d) Type Conversion <br>\n",
        " &nbsp;&nbsp;&nbsp;&nbsp; e) input() <br>\n",
        " &nbsp;&nbsp;&nbsp;&nbsp; f) format() <br>\n",
        " &nbsp;&nbsp;&nbsp;&nbsp; g) Old Way (python 2) <br>\n",
        "3) <b>In-Class Exercise #1</b> <br>\n",
        "4) If Statements <br>\n",
        " &nbsp;&nbsp;&nbsp;&nbsp; a) 'is' keyword <br>\n",
        " &nbsp;&nbsp;&nbsp;&nbsp; b) 'in' keyword <br>\n",
        " &nbsp;&nbsp;&nbsp;&nbsp; c) 'not in' keyword <br>\n",
        "5) <b>In-Class Exercise #2</b> <br>\n",
        "6) Elif Statements <br>\n",
        "7) Else Statements <br>\n",
        "8) <b>In-Class Exercise #3</b> <br>\n",
        "9) For Loops <br>\n",
        " &nbsp;&nbsp;&nbsp;&nbsp; a) Using 'in' keyword <br>\n",
        " &nbsp;&nbsp;&nbsp;&nbsp; b) Continue Statement <br>\n",
        " &nbsp;&nbsp;&nbsp;&nbsp; c) Break Statement <br>\n",
        " &nbsp;&nbsp;&nbsp;&nbsp; d) Pass Statement <br>\n",
        " &nbsp;&nbsp;&nbsp;&nbsp; e) Double For Loops <br>\n",
        "10) While Loops <br>\n",
        " &nbsp;&nbsp;&nbsp;&nbsp; a) Looping 'While True' <br>\n",
        " &nbsp;&nbsp;&nbsp;&nbsp; b) While and For Loops Used Together <br>\n",
        "11) Built-In Functions <br>\n",
        " &nbsp;&nbsp;&nbsp;&nbsp; a) range() <br>\n",
        " &nbsp;&nbsp;&nbsp;&nbsp; b) len() <br>\n",
        " &nbsp;&nbsp;&nbsp;&nbsp; c) help() <br>\n",
        " &nbsp;&nbsp;&nbsp;&nbsp; d) isinstance() <br>\n",
        " &nbsp;&nbsp;&nbsp;&nbsp; e) abs() <br>\n",
        "12) Try and Except <br>\n",
        "13) Lists <br>\n",
        " &nbsp;&nbsp;&nbsp;&nbsp; a) Declaring Lists <br>\n",
        " &nbsp;&nbsp;&nbsp;&nbsp; b) Indexing a List <br>\n",
        " &nbsp;&nbsp;&nbsp;&nbsp; c) .append() <br>\n",
        " &nbsp;&nbsp;&nbsp;&nbsp; d) .insert() <br>\n",
        " &nbsp;&nbsp;&nbsp;&nbsp; e) .pop() <br>\n",
        " &nbsp;&nbsp;&nbsp;&nbsp; f) .remove() <br>\n",
        " &nbsp;&nbsp;&nbsp;&nbsp; g) del() <br>\n",
        " &nbsp;&nbsp;&nbsp;&nbsp; h) Concatenating Two Lists <br>\n",
        " &nbsp;&nbsp;&nbsp;&nbsp; i) Lists Within Lists <br>\n",
        " &nbsp;&nbsp;&nbsp;&nbsp; j) Looping Through Lists <br>"
      ]
    },
    {
      "cell_type": "markdown",
      "metadata": {
        "id": "lp_KDMLApeIB"
      },
      "source": [
        "You are given a word and must determine whether that word is a palindrome (spelled the same forwards and backwards)\n",
        "What are the steps to solve this problem\n",
        "1.  Check is the length of the word is odd or even, if it is odd I'll remove the middle letter\n",
        "\n",
        "2.  Look at the first letter of the word and compare it to the last letter\n",
        "    if they are the same then I'll continue, if they are different I know its not a palindrone\n",
        "    \n",
        "3.  Look at the second letter and compare it to the second from last letter\n",
        "    if they are the same then I'll continue, if they are different I know its not a palindrone\n",
        "\n",
        "4.  I'll repeat this pattern until I have looked at every letter or I found out that the word is not a \n",
        "    palindrome.  If I made it through without finding out its not a palidrome I know the word is a palidrome\n",
        "\n",
        "\n"
      ]
    },
    {
      "cell_type": "code",
      "metadata": {
        "id": "6e6k-zQBpeIC"
      },
      "source": [
        "import this"
      ],
      "execution_count": null,
      "outputs": []
    },
    {
      "cell_type": "code",
      "metadata": {
        "scrolled": true,
        "id": "_Fk2TXd-peID"
      },
      "source": [
        "import this"
      ],
      "execution_count": null,
      "outputs": []
    },
    {
      "cell_type": "markdown",
      "metadata": {
        "id": "LbGJLWfbpeIE"
      },
      "source": [
        "### Int & Float Assignments"
      ]
    },
    {
      "cell_type": "markdown",
      "metadata": {
        "id": "uEdknsMppeIE"
      },
      "source": [
        "##### Assigning int"
      ]
    },
    {
      "cell_type": "code",
      "metadata": {
        "id": "pNhv0GZGpeIF",
        "outputId": "ad15262f-8845-420a-9d31-de7495c675eb"
      },
      "source": [
        "number = 6\n",
        "print(number)"
      ],
      "execution_count": null,
      "outputs": [
        {
          "name": "stdout",
          "output_type": "stream",
          "text": [
            "6\n"
          ]
        }
      ]
    },
    {
      "cell_type": "markdown",
      "metadata": {
        "id": "gIHP1moMpeIG"
      },
      "source": [
        "##### Assinging float"
      ]
    },
    {
      "cell_type": "code",
      "metadata": {
        "id": "_7AV1Fp6peIH",
        "outputId": "b67b5320-4024-4c45-f6b4-153637d6f15e"
      },
      "source": [
        "my_float = 2.3\n",
        "print(my_float)\n",
        "my_float = 2.\n"
      ],
      "execution_count": null,
      "outputs": [
        {
          "name": "stdout",
          "output_type": "stream",
          "text": [
            "2.3\n"
          ]
        },
        {
          "data": {
            "text/plain": [
              "float"
            ]
          },
          "execution_count": 19,
          "metadata": {},
          "output_type": "execute_result"
        }
      ]
    },
    {
      "cell_type": "markdown",
      "metadata": {
        "id": "uV8WSeRcpeIH"
      },
      "source": [
        "#### Performing Calculations on ints and floats"
      ]
    },
    {
      "cell_type": "markdown",
      "metadata": {
        "id": "GO10QDRYpeIH"
      },
      "source": [
        "##### Addition"
      ]
    },
    {
      "cell_type": "code",
      "metadata": {
        "id": "XFKzIy2cpeII",
        "outputId": "2b6d716a-4fe8-4c09-f128-ade6d5e5a18c"
      },
      "source": [
        "num1 = 2\n",
        "num2 = 5.7\n",
        "\n",
        "result = num1 + num2\n",
        "print(result)\n",
        "\n",
        "# result = result + 2\n",
        "result += 2\n",
        "print(result)\n",
        "\n"
      ],
      "execution_count": null,
      "outputs": [
        {
          "name": "stdout",
          "output_type": "stream",
          "text": [
            "7.7\n",
            "9.7\n"
          ]
        }
      ]
    },
    {
      "cell_type": "markdown",
      "metadata": {
        "id": "UJ3iwHdSpeII"
      },
      "source": [
        "##### Subtraction"
      ]
    },
    {
      "cell_type": "code",
      "metadata": {
        "id": "3MVNdXZipeII",
        "outputId": "f75b9efb-62a4-4137-d089-d302e31948c6"
      },
      "source": [
        "result_diff = num2 - num1\n",
        "print(result_diff)\n",
        "\n",
        "result_diff -= 2\n",
        "print(result_diff)"
      ],
      "execution_count": null,
      "outputs": [
        {
          "name": "stdout",
          "output_type": "stream",
          "text": [
            "3.7\n",
            "1.7000000000000002\n"
          ]
        }
      ]
    },
    {
      "cell_type": "markdown",
      "metadata": {
        "id": "kVukOe_ApeII"
      },
      "source": [
        "##### Multiplication"
      ]
    },
    {
      "cell_type": "code",
      "metadata": {
        "id": "i7xFUkS6peIJ",
        "outputId": "145f63e5-bc28-4f4c-fca1-930b2030a34f"
      },
      "source": [
        "num3 = 3\n",
        "num4 = 10\n",
        "\n",
        "result_prod = num3 * num4\n",
        "print(result_prod)\n",
        "\n",
        "result_prod *= 2\n",
        "print(result_prod)"
      ],
      "execution_count": null,
      "outputs": [
        {
          "name": "stdout",
          "output_type": "stream",
          "text": [
            "30\n",
            "60\n"
          ]
        }
      ]
    },
    {
      "cell_type": "markdown",
      "metadata": {
        "id": "3UseNFZppeIJ"
      },
      "source": [
        "##### Division"
      ]
    },
    {
      "cell_type": "code",
      "metadata": {
        "id": "c9ef0cOhpeIJ",
        "outputId": "55bcadcc-8658-4358-dbe5-8e119c7cf1d9"
      },
      "source": [
        "result_div = 4 / 2\n",
        "print(result_div)"
      ],
      "execution_count": null,
      "outputs": [
        {
          "name": "stdout",
          "output_type": "stream",
          "text": [
            "2.0\n"
          ]
        }
      ]
    },
    {
      "cell_type": "markdown",
      "metadata": {
        "id": "POnusk4_peIJ"
      },
      "source": [
        "##### Floor Division"
      ]
    },
    {
      "cell_type": "code",
      "metadata": {
        "id": "n0DQovLZpeIK",
        "outputId": "60b89cc2-815a-431d-ba09-a2d23334d136"
      },
      "source": [
        "result_floor = 5 // 2\n",
        "print(result_floor)\n",
        "my_list =[1,2,3,4,5]\n",
        "middle_index = len(my_list)//2"
      ],
      "execution_count": null,
      "outputs": [
        {
          "name": "stdout",
          "output_type": "stream",
          "text": [
            "2\n"
          ]
        }
      ]
    },
    {
      "cell_type": "markdown",
      "metadata": {
        "id": "5_7e7uXvpeIK"
      },
      "source": [
        "##### Modulo"
      ]
    },
    {
      "cell_type": "code",
      "metadata": {
        "id": "tt1B_JvvpeIK",
        "outputId": "ed47645b-f832-4be8-b399-b65ae9e96f69"
      },
      "source": [
        "result_mod = 5 % 2\n",
        "print(result_mod)\n",
        "\n",
        "num = 6\n",
        "if num % 2 == 0:\n",
        "    print(\"even\")\n",
        "else:\n",
        "    print(\"odd\")\n",
        "    \n"
      ],
      "execution_count": null,
      "outputs": [
        {
          "name": "stdout",
          "output_type": "stream",
          "text": [
            "1\n",
            "even\n"
          ]
        }
      ]
    },
    {
      "cell_type": "markdown",
      "metadata": {
        "id": "xV1-F1JHpeIL"
      },
      "source": [
        "##### Exponential"
      ]
    },
    {
      "cell_type": "code",
      "metadata": {
        "id": "qsIzmEYspeIL",
        "outputId": "aff59763-49d2-4885-93a2-ff32691bbe6b"
      },
      "source": [
        "square = 5 ** 2\n",
        "# 5^2\n",
        "print(square)\n",
        "x = 5\n",
        "x**=2\n",
        "print(x)"
      ],
      "execution_count": null,
      "outputs": [
        {
          "name": "stdout",
          "output_type": "stream",
          "text": [
            "25\n",
            "25\n"
          ]
        }
      ]
    },
    {
      "cell_type": "markdown",
      "metadata": {
        "id": "zm4JBBIKpeIL"
      },
      "source": [
        "### String Input-Output"
      ]
    },
    {
      "cell_type": "markdown",
      "metadata": {
        "id": "fMD736gNpeIL"
      },
      "source": [
        "##### String Assignment"
      ]
    },
    {
      "cell_type": "code",
      "metadata": {
        "scrolled": true,
        "id": "KlZpW1PJpeIL",
        "outputId": "303acf3e-5146-40f8-d319-eefa8fab965c"
      },
      "source": [
        "name = \"Kevin\"\n",
        "name = 'Kevin'\n",
        "print(name)"
      ],
      "execution_count": null,
      "outputs": [
        {
          "name": "stdout",
          "output_type": "stream",
          "text": [
            "Kevin\n"
          ]
        }
      ]
    },
    {
      "cell_type": "code",
      "metadata": {
        "scrolled": true,
        "id": "lYYt-CV3peIL",
        "outputId": "c57599fc-d35b-4e50-9e02-aa4e7470ecc3"
      },
      "source": [
        "word = \"kevin's\"\n",
        "print(word)"
      ],
      "execution_count": null,
      "outputs": [
        {
          "name": "stdout",
          "output_type": "stream",
          "text": [
            "kevin's\n"
          ]
        }
      ]
    },
    {
      "cell_type": "code",
      "metadata": {
        "scrolled": true,
        "id": "au5yMLdNpeIM",
        "outputId": "c4fc0944-b0b9-4a53-b299-cf0ffeffc7e1"
      },
      "source": [
        "word = 'he said \"hello\"'\n",
        "print(word)"
      ],
      "execution_count": null,
      "outputs": [
        {
          "name": "stdout",
          "output_type": "stream",
          "text": [
            "he said \"hello\"\n"
          ]
        }
      ]
    },
    {
      "cell_type": "code",
      "metadata": {
        "id": "Dv281PatpeIM",
        "outputId": "c526b4f6-daf6-4c32-9a34-b9fba440cbcc"
      },
      "source": [
        "word = 'he said \"what\\'s up?\"'\n",
        "print(word)"
      ],
      "execution_count": null,
      "outputs": [
        {
          "name": "stdout",
          "output_type": "stream",
          "text": [
            "he said \"what's up?\"\n"
          ]
        }
      ]
    },
    {
      "cell_type": "markdown",
      "metadata": {
        "id": "el7zoShepeIM"
      },
      "source": [
        "##### print() <br>\n",
        "<p>Don't forget about end=' '</p>"
      ]
    },
    {
      "cell_type": "code",
      "metadata": {
        "id": "JsAXkUjRpeIM",
        "outputId": "00d03147-cd9f-4b1f-8dd3-e3aff6276c50"
      },
      "source": [
        "name = \"Kevin\"\n",
        "\n",
        "print(\"this is my first name:\", name, \"\\nthanks\")\n",
        "print(\"hello\")\n",
        "#Both the same\n",
        "print(\"hello\")\n",
        "print(\"hello\", end=\"\\n\")\n",
        "\n",
        "print(\"no spaces\", end=\"\")\n",
        "print(\"no spaces\", end=\"\")\n",
        "print(\"no spaces\", end=\"\")\n",
        "print(\"no spaces\", end=\"\")\n",
        "\n",
        "print(\"spaces\", end=\" \")\n",
        "print(\"spaces\", end=\" \")\n",
        "\n",
        "print(\"Welcome to the party\", end=\"Thanks for coming\")\n",
        "print(print())"
      ],
      "execution_count": null,
      "outputs": [
        {
          "name": "stdout",
          "output_type": "stream",
          "text": [
            "this is my first name: Kevin \n",
            "thanks\n",
            "hello\n",
            "hello\n",
            "hello\n",
            "no spacesno spacesno spacesno spacesspaces spaces Welcome to the partyThanks for coming\n",
            "None\n"
          ]
        }
      ]
    },
    {
      "cell_type": "markdown",
      "metadata": {
        "id": "9XFRTT6rpeIM"
      },
      "source": [
        "##### String Concatenation"
      ]
    },
    {
      "cell_type": "code",
      "metadata": {
        "id": "XU_P3-6KpeIM",
        "outputId": "48366e45-6ea8-4906-c3f1-b1aedad21749"
      },
      "source": [
        "first = \"Mark\"\n",
        "last = \"Gerlach\"\n",
        "full_name = first +\" \"+ last\n",
        "print(full_name)\n",
        "\n"
      ],
      "execution_count": null,
      "outputs": [
        {
          "name": "stdout",
          "output_type": "stream",
          "text": [
            "Mark Gerlach\n"
          ]
        }
      ]
    },
    {
      "cell_type": "markdown",
      "metadata": {
        "id": "gck_t9VKpeIN"
      },
      "source": [
        "##### Type Conversion"
      ]
    },
    {
      "cell_type": "code",
      "metadata": {
        "id": "aIrq6WcNpeIN",
        "outputId": "b1de552f-f5e3-42d5-fad2-05ed5712268a"
      },
      "source": [
        "num = \"32\"\n",
        "print(type(num))\n",
        "\n",
        "change_type = int(num)\n",
        "print(type(change_type))\n",
        "\n",
        "num1 = \"4\"\n",
        "num2 = 6\n",
        "\n",
        "print(num1 + str(num2))\n",
        "\n",
        "# dict(), list(), tuple(), float(), int(), str(), set()\n"
      ],
      "execution_count": null,
      "outputs": [
        {
          "name": "stdout",
          "output_type": "stream",
          "text": [
            "<class 'str'>\n",
            "<class 'int'>\n",
            "46\n"
          ]
        }
      ]
    },
    {
      "cell_type": "markdown",
      "metadata": {
        "id": "SMXF8aHrpeIN"
      },
      "source": [
        "##### input()"
      ]
    },
    {
      "cell_type": "code",
      "metadata": {
        "id": "dvZ5RBojpeIN",
        "outputId": "da9e81f0-5f6f-497b-eb7a-69ee297b3618"
      },
      "source": [
        "age = int(input(\"What is your age? \"))\n",
        "print(type(age))\n",
        "\n",
        "print(\"Your age is\", age)"
      ],
      "execution_count": null,
      "outputs": [
        {
          "name": "stdout",
          "output_type": "stream",
          "text": [
            "What is your age? 25\n",
            "<class 'int'>\n",
            "Your age is 25\n"
          ]
        }
      ]
    },
    {
      "cell_type": "markdown",
      "metadata": {
        "id": "kGX5uj6upeIN"
      },
      "source": [
        "##### format()"
      ]
    },
    {
      "cell_type": "code",
      "metadata": {
        "id": "dag8O5pQpeIO",
        "outputId": "31a92c0b-a3b7-4799-9c1d-2cff4c18302a"
      },
      "source": [
        "age = input(\"What is your age? \")\n",
        "result_string = 'You are {} years old and you are getting wiser!'.format(age)\n",
        "print(result_string)\n",
        "\n",
        "# f-string!!!\n",
        "result_string = f'You are {age} years old and you are getting wiser!'\n",
        "print(result_string)"
      ],
      "execution_count": null,
      "outputs": [
        {
          "name": "stdout",
          "output_type": "stream",
          "text": [
            "What is your age? 25\n",
            "You are 25 years old and you are getting wiser!\n",
            "You are 25 years old and you are getting wiser!\n"
          ]
        }
      ]
    },
    {
      "cell_type": "markdown",
      "metadata": {
        "id": "G-_zaaefpeIO"
      },
      "source": [
        "##### Old Way (python 2)"
      ]
    },
    {
      "cell_type": "code",
      "metadata": {
        "id": "rJytJjfJpeIO",
        "outputId": "a2f3944c-b24c-46ea-c0fb-9536d98c2184"
      },
      "source": [
        "age =\"35\"\n",
        "result_str = 'You are %s and you look great for your age!' %age\n",
        "print(result_str)"
      ],
      "execution_count": null,
      "outputs": [
        {
          "name": "stdout",
          "output_type": "stream",
          "text": [
            "You are 35 and you look great for your age!\n"
          ]
        }
      ]
    },
    {
      "cell_type": "markdown",
      "metadata": {
        "id": "G4QhXgkUpeIO"
      },
      "source": [
        "# In-Class Exercise 1 <br>\n",
        "<p>Create a format statement that asks for color, year, make, model and prints out the results</p>"
      ]
    },
    {
      "cell_type": "code",
      "metadata": {
        "id": "M0BixtU7peIO",
        "outputId": "03f1c72c-d1cf-4068-e573-e26f29d33743"
      },
      "source": [
        "color = input(\"What color is your car? \")\n",
        "year = input(\"What year is your car? \")\n",
        "make = input(\"What make is your car? \")\n",
        "model = input(\"What model is your car? \")\n",
        "print(f\"You drive a {year} {make} {model} that is painted {color}!\")\n"
      ],
      "execution_count": null,
      "outputs": [
        {
          "name": "stdout",
          "output_type": "stream",
          "text": [
            "What color is your car? purple\n",
            "What year is your car? 2050\n",
            "What make is your car? Saturn\n",
            "What model is your car? Ring\n",
            "You drive a 2050 Saturn Ring that is painted purple!\n"
          ]
        }
      ]
    },
    {
      "cell_type": "markdown",
      "metadata": {
        "id": "dhkUWnqDpeIO"
      },
      "source": [
        "### If Statements"
      ]
    },
    {
      "cell_type": "code",
      "metadata": {
        "id": "WUWDsaBvpeIO",
        "outputId": "d477769b-f09c-41b5-b453-252f0b96bd3c"
      },
      "source": [
        "# True / False \n",
        "# boolean evaluates to True or False\n",
        "# Operators \n",
        "# greater than >\n",
        "# less than <\n",
        "# Equal ==\n",
        "# greater or equal >=\n",
        "# less than or Equal <=\n",
        "# not equal !=  (or ...not ==)\n",
        "\n",
        "num1 = 5\n",
        "num2 = 10\n",
        "\n",
        "if num1 != num2:\n",
        "    #code block\n",
        "    print(\"equal\")\n",
        "else:\n",
        "    print(\"not equal\")\n",
        "    \n",
        "if num1 > num2:\n",
        "    print(\"num1 is greater\")\n",
        "elif num1 < num2:\n",
        "    print(\"num1 is less\")\n",
        "else:\n",
        "    print(\"num1 and num2 are equal\")\n",
        "    \n",
        "    \n",
        "\n",
        "# and & or\n",
        "\n",
        "# if True and False\n",
        "# both sides of the and must return True to be True\n",
        "if num1 == 5 and num2 > 12:\n",
        "    print(\"something\")\n",
        "else:\n",
        "    print(\"nothing\")\n",
        "\n",
        "    # True or False --> True\n",
        "if num1 == 5 or num2 > 12:\n",
        "    print(\"something\")\n",
        "else:\n",
        "    print(\"nothing\")\n",
        "    \n"
      ],
      "execution_count": null,
      "outputs": [
        {
          "name": "stdout",
          "output_type": "stream",
          "text": [
            "equal\n",
            "num1 is less\n",
            "nothing\n",
            "something\n"
          ]
        }
      ]
    },
    {
      "cell_type": "code",
      "metadata": {
        "id": "ejSxcP6lpeIP",
        "outputId": "256f3531-919b-4101-f5be-b89728f66750"
      },
      "source": [
        "#Not as good as using else if because you have to check all the conditions every time\n",
        "if num1 > num2:\n",
        "    print(\"num1 is greater\")\n",
        "if num1 < num2:\n",
        "    print(\"num1 is less\")\n",
        "if num1==num2:\n",
        "    print(\"num1 and num2 are equal\")\n"
      ],
      "execution_count": null,
      "outputs": [
        {
          "name": "stdout",
          "output_type": "stream",
          "text": [
            "num1 is less\n"
          ]
        }
      ]
    },
    {
      "cell_type": "code",
      "metadata": {
        "id": "6Mgf9wsQpeIP",
        "outputId": "543b6872-6246-4bae-e037-88f432220a3d"
      },
      "source": [
        "#Ternary Operator... this is how you write an if statement inline\n",
        "\n",
        "# [value if true] [if] [boolean] [else] [value if false]\n",
        "\n",
        "name =\"john\"\n",
        "\n",
        "my_num = 5 if name ==\"steve\" else 0\n",
        "print(my_num)\n",
        "\n",
        "my_num = 5 if name==\"steve\" else 10 if name==\"john\" else 0\n",
        "print(my_num)"
      ],
      "execution_count": null,
      "outputs": [
        {
          "name": "stdout",
          "output_type": "stream",
          "text": [
            "0\n",
            "10\n"
          ]
        }
      ]
    },
    {
      "cell_type": "markdown",
      "metadata": {
        "id": "A6drPCQepeIP"
      },
      "source": [
        "\n",
        "##### 'is' keyword"
      ]
    },
    {
      "cell_type": "code",
      "metadata": {
        "scrolled": true,
        "id": "VAtWPMZvpeIP",
        "outputId": "7dd47d73-64c7-4229-840d-4e5106f0fb64"
      },
      "source": [
        "# check if the two objects are the same.. \n",
        "# generally don't us is unless you are asking is None\n",
        "\n",
        "y = None\n",
        "if y is None:\n",
        "    print(\"y is None\")\n",
        "    \n"
      ],
      "execution_count": null,
      "outputs": [
        {
          "name": "stdout",
          "output_type": "stream",
          "text": [
            "y is None\n"
          ]
        },
        {
          "data": {
            "text/plain": [
              "NoneType"
            ]
          },
          "execution_count": 131,
          "metadata": {},
          "output_type": "execute_result"
        }
      ]
    },
    {
      "cell_type": "code",
      "metadata": {
        "id": "8HHDtXLTpeIP",
        "outputId": "cd4a9702-2dab-4b9f-99ad-45f2e85e0697"
      },
      "source": [
        "list1 = []\n",
        "list2 = []\n",
        "list3 = list1\n",
        "\n",
        "if list1 == list2:\n",
        "    print(\"true\")\n",
        "else:\n",
        "    print(\"false\")\n",
        "\n",
        "    \n",
        "if list1 is list2:\n",
        "    print(\"true\")\n",
        "else:\n",
        "    print(\"false\")\n",
        "\n",
        "print(list1==list3)    \n",
        "print(list1 is list3)    \n",
        "\n",
        "\n"
      ],
      "execution_count": null,
      "outputs": [
        {
          "name": "stdout",
          "output_type": "stream",
          "text": [
            "true\n",
            "false\n",
            "True\n",
            "True\n"
          ]
        }
      ]
    },
    {
      "cell_type": "markdown",
      "metadata": {
        "id": "9qblwqNBpeIP"
      },
      "source": [
        "##### 'in' keyword"
      ]
    },
    {
      "cell_type": "code",
      "metadata": {
        "id": "fO7fRgFapeIQ",
        "outputId": "48f6e4cf-dfcd-434b-a4e6-34ddb6f5c720"
      },
      "source": [
        "# Check if a character is in a nume\n",
        "\n",
        "\n",
        "# Under the hood using in with a list or a string is actually looping\n",
        "\n",
        "char_name = \"Max Payne\"\n",
        "\n",
        "if \"Max\" in char_name:\n",
        "    print(\"The character who lost everything...\")\n",
        "\n"
      ],
      "execution_count": null,
      "outputs": [
        {
          "name": "stdout",
          "output_type": "stream",
          "text": [
            "The character who lost everything...\n"
          ]
        }
      ]
    },
    {
      "cell_type": "markdown",
      "metadata": {
        "id": "JmLEWyi-peIQ"
      },
      "source": [
        "##### 'not in' keyword'"
      ]
    },
    {
      "cell_type": "code",
      "metadata": {
        "id": "Ug1UYJXLpeIQ"
      },
      "source": [
        "sega_char = \"Sonic\"\n",
        "if 's' not in sega_char.lower():\n",
        "    print(\"a is NOT in the name...!!!!!\")"
      ],
      "execution_count": null,
      "outputs": []
    },
    {
      "cell_type": "markdown",
      "metadata": {
        "id": "a_YWLEvMpeIQ"
      },
      "source": [
        "# In-Class Exercise 2 <br>\n",
        "<p>Ask user for input, check to see if the letter 'p' is in the input</p>"
      ]
    },
    {
      "cell_type": "code",
      "metadata": {
        "id": "LV246tvgpeIQ",
        "outputId": "69d0bd19-32e3-4028-dd08-9108b3624832"
      },
      "source": [
        "name = input(\"What is your name? \")\n",
        "if \"p\" in name.lower():\n",
        "    print(True)\n",
        "    \n",
        "    "
      ],
      "execution_count": null,
      "outputs": [
        {
          "name": "stdout",
          "output_type": "stream",
          "text": [
            "What is your name? Steve\n"
          ]
        }
      ]
    },
    {
      "cell_type": "code",
      "metadata": {
        "id": "In1XHF4XpeIQ",
        "outputId": "380f90f4-b9f7-4b81-dd4e-9a4013197b61"
      },
      "source": [
        "\"p\" in input(\"What is your name? \").lower()"
      ],
      "execution_count": null,
      "outputs": [
        {
          "name": "stdout",
          "output_type": "stream",
          "text": [
            "What is your name? Steve\n"
          ]
        },
        {
          "data": {
            "text/plain": [
              "False"
            ]
          },
          "execution_count": 150,
          "metadata": {},
          "output_type": "execute_result"
        }
      ]
    },
    {
      "cell_type": "markdown",
      "metadata": {
        "id": "xXgK0NZWpeIR"
      },
      "source": [
        "## Using 'and'/'or' with If Statements"
      ]
    },
    {
      "cell_type": "code",
      "metadata": {
        "id": "a64SMu_ZpeIR"
      },
      "source": [
        "# SEE ABOVE"
      ],
      "execution_count": null,
      "outputs": []
    },
    {
      "cell_type": "markdown",
      "metadata": {
        "id": "YfvkJ8jupeIR"
      },
      "source": [
        "### Elif Statements"
      ]
    },
    {
      "cell_type": "code",
      "metadata": {
        "id": "dWzTGz5ZpeIR"
      },
      "source": [
        "# SEE ABOVE"
      ],
      "execution_count": null,
      "outputs": []
    },
    {
      "cell_type": "markdown",
      "metadata": {
        "id": "S7cd1ozSpeIR"
      },
      "source": [
        "### Else Statements"
      ]
    },
    {
      "cell_type": "code",
      "metadata": {
        "id": "1unTqWdfpeIR"
      },
      "source": [
        "# SEE ABOVE"
      ],
      "execution_count": null,
      "outputs": []
    },
    {
      "cell_type": "markdown",
      "metadata": {
        "id": "bN2MIz2ipeIR"
      },
      "source": [
        "### For Loops"
      ]
    },
    {
      "cell_type": "code",
      "metadata": {
        "id": "_01-ajkzpeIR",
        "outputId": "160173e4-fe91-428f-dd3c-71f2db07a482"
      },
      "source": [
        "list(range(10))"
      ],
      "execution_count": null,
      "outputs": [
        {
          "data": {
            "text/plain": [
              "[0, 1, 2, 3, 4, 5, 6, 7, 8, 9]"
            ]
          },
          "execution_count": 152,
          "metadata": {},
          "output_type": "execute_result"
        }
      ]
    },
    {
      "cell_type": "code",
      "metadata": {
        "scrolled": true,
        "id": "SicTsvRvpeIR",
        "outputId": "9a9871a2-34b8-4cd8-f0db-29296efad3ee"
      },
      "source": [
        "# for [placeolder] in [iterable]:\n",
        "for i in range(10):\n",
        "    print(i)\n",
        "    \n",
        "name = \"Christina\"\n",
        "for letter in name:\n",
        "    print(letter)\n",
        "    \n",
        "    \n",
        "    "
      ],
      "execution_count": null,
      "outputs": [
        {
          "name": "stdout",
          "output_type": "stream",
          "text": [
            "0\n",
            "1\n",
            "2\n",
            "3\n",
            "4\n",
            "5\n",
            "6\n",
            "7\n",
            "8\n",
            "9\n",
            "C\n",
            "h\n",
            "r\n",
            "i\n",
            "s\n",
            "t\n",
            "i\n",
            "n\n",
            "a\n"
          ]
        }
      ]
    },
    {
      "cell_type": "code",
      "metadata": {
        "id": "6duW3M10peIS",
        "outputId": "526f4be2-f06b-47e2-ff0e-80b2f0f56fe2"
      },
      "source": [
        "x, y = [\"a\",\"b\"]\n",
        "print(x)\n",
        "print(y)"
      ],
      "execution_count": null,
      "outputs": [
        {
          "name": "stdout",
          "output_type": "stream",
          "text": [
            "a\n",
            "b\n"
          ]
        }
      ]
    },
    {
      "cell_type": "code",
      "metadata": {
        "id": "ADHnKcxTpeIS",
        "outputId": "7e8ebf49-96db-4517-c12a-df5fd8d63f6b"
      },
      "source": [
        "foods = [\"pizza\",\"tacos\",\"dimsum\",\"sushi\"]\n",
        "\n",
        "for food in foods:\n",
        "    print(food.title())\n",
        "#             [0,1,2,3]\n",
        "for index in range(len(foods)):\n",
        "    print(index)\n",
        "    print(foods[index])\n",
        "# access index and object is to use enumerate\n",
        "for index, food in enumerate(foods):\n",
        "    print(f\"the food at index {index} is {food}\")\n"
      ],
      "execution_count": null,
      "outputs": [
        {
          "name": "stdout",
          "output_type": "stream",
          "text": [
            "Pizza\n",
            "Tacos\n",
            "Dimsum\n",
            "Sushi\n",
            "0\n",
            "pizza\n",
            "1\n",
            "tacos\n",
            "2\n",
            "dimsum\n",
            "3\n",
            "sushi\n",
            "the food at index 0 is pizza\n",
            "the food at index 1 is tacos\n",
            "the food at index 2 is dimsum\n",
            "the food at index 3 is sushi\n"
          ]
        }
      ]
    },
    {
      "cell_type": "markdown",
      "metadata": {
        "id": "7Bfw3W4speIS"
      },
      "source": [
        "##### Using 'in' keyword"
      ]
    },
    {
      "cell_type": "code",
      "metadata": {
        "id": "dPnFRqxLpeIS"
      },
      "source": [
        "# explained"
      ],
      "execution_count": null,
      "outputs": []
    },
    {
      "cell_type": "markdown",
      "metadata": {
        "id": "NYfggTwVpeIT"
      },
      "source": [
        "##### Continue Statement"
      ]
    },
    {
      "cell_type": "code",
      "metadata": {
        "id": "57Hq_GVcpeIT",
        "outputId": "6f752f97-4842-4f18-ac96-d28fab66ac32"
      },
      "source": [
        "# it will continue the next iteration...\n",
        "\n",
        "for i in range(10):\n",
        "    if i == 5:\n",
        "        continue\n",
        "    print(i)"
      ],
      "execution_count": null,
      "outputs": [
        {
          "name": "stdout",
          "output_type": "stream",
          "text": [
            "0\n",
            "1\n",
            "2\n",
            "3\n",
            "4\n",
            "6\n",
            "7\n",
            "8\n",
            "9\n"
          ]
        }
      ]
    },
    {
      "cell_type": "markdown",
      "metadata": {
        "id": "2K30vJhLpeIT"
      },
      "source": [
        "##### Break Statement"
      ]
    },
    {
      "cell_type": "code",
      "metadata": {
        "id": "wnzpYHMSpeIT",
        "outputId": "45cf7bec-320e-46ac-d2b1-2ca4ec835786"
      },
      "source": [
        "for i in range(10):\n",
        "    if i == 5:\n",
        "        break\n",
        "    print(i)"
      ],
      "execution_count": null,
      "outputs": [
        {
          "name": "stdout",
          "output_type": "stream",
          "text": [
            "0\n",
            "1\n",
            "2\n",
            "3\n",
            "4\n"
          ]
        }
      ]
    },
    {
      "cell_type": "code",
      "metadata": {
        "id": "eMozyarXpeIT"
      },
      "source": [
        ""
      ],
      "execution_count": null,
      "outputs": []
    },
    {
      "cell_type": "markdown",
      "metadata": {
        "id": "cXbZ2VyzpeIT"
      },
      "source": [
        "##### Pass Statement"
      ]
    },
    {
      "cell_type": "code",
      "metadata": {
        "id": "FS8FlY0SpeIT",
        "outputId": "f9a3e405-401b-4da6-9ee2-fbe409c2da8a"
      },
      "source": [
        "for x in [1,2,3,4]:\n",
        "    pass\n",
        "print(\"hello\")"
      ],
      "execution_count": null,
      "outputs": [
        {
          "name": "stdout",
          "output_type": "stream",
          "text": [
            "hello\n"
          ]
        }
      ]
    },
    {
      "cell_type": "code",
      "metadata": {
        "id": "NaPbhD3qpeIU"
      },
      "source": [
        ""
      ],
      "execution_count": null,
      "outputs": []
    },
    {
      "cell_type": "markdown",
      "metadata": {
        "id": "aAax6WRApeIU"
      },
      "source": [
        "##### Double For Loops"
      ]
    },
    {
      "cell_type": "code",
      "metadata": {
        "id": "ZSCIS9nSpeIU",
        "outputId": "57d756d1-f26d-4637-fa59-b0584ff33f9d"
      },
      "source": [
        "for i in range(5):\n",
        "    for j in range(5):\n",
        "        print(f'i={i}, j={j}')"
      ],
      "execution_count": null,
      "outputs": [
        {
          "name": "stdout",
          "output_type": "stream",
          "text": [
            "i=0, j=0\n",
            "i=0, j=1\n",
            "i=0, j=2\n",
            "i=0, j=3\n",
            "i=0, j=4\n",
            "i=1, j=0\n",
            "i=1, j=1\n",
            "i=1, j=2\n",
            "i=1, j=3\n",
            "i=1, j=4\n",
            "i=2, j=0\n",
            "i=2, j=1\n",
            "i=2, j=2\n",
            "i=2, j=3\n",
            "i=2, j=4\n",
            "i=3, j=0\n",
            "i=3, j=1\n",
            "i=3, j=2\n",
            "i=3, j=3\n",
            "i=3, j=4\n",
            "i=4, j=0\n",
            "i=4, j=1\n",
            "i=4, j=2\n",
            "i=4, j=3\n",
            "i=4, j=4\n"
          ]
        }
      ]
    },
    {
      "cell_type": "markdown",
      "metadata": {
        "id": "CiTSgbPOpeIU"
      },
      "source": [
        "### While Loops"
      ]
    },
    {
      "cell_type": "code",
      "metadata": {
        "id": "OzSRScbOpeIU",
        "outputId": "8f7ef2bc-8b7d-46a6-a52f-9aa574c94530"
      },
      "source": [
        "num = 0\n",
        "while num < 10:\n",
        "    print(num)\n",
        "    num += 1"
      ],
      "execution_count": null,
      "outputs": [
        {
          "name": "stdout",
          "output_type": "stream",
          "text": [
            "0\n",
            "1\n",
            "2\n",
            "3\n",
            "4\n",
            "5\n",
            "6\n",
            "7\n",
            "8\n",
            "9\n"
          ]
        }
      ]
    },
    {
      "cell_type": "code",
      "metadata": {
        "id": "7QLIQWz7peIU",
        "outputId": "e235a985-9cb2-4470-eb19-0887f68f5716"
      },
      "source": [
        "game_over = False\n",
        "while not game_over:\n",
        "    user_input = input(\"What do you want to do? quit or continue?\")\n",
        "    if user_input.lower() == \"quit\":\n",
        "        game_over = True\n",
        "    else:\n",
        "        continue\n",
        "    print(\"I'll still run after quit\")"
      ],
      "execution_count": null,
      "outputs": [
        {
          "name": "stdout",
          "output_type": "stream",
          "text": [
            "What do you want to do? quit or continue?continue\n"
          ]
        },
        {
          "ename": "KeyboardInterrupt",
          "evalue": "Interrupted by user",
          "output_type": "error",
          "traceback": [
            "\u001b[0;31m---------------------------------------------------------------------------\u001b[0m",
            "\u001b[0;31mKeyboardInterrupt\u001b[0m                         Traceback (most recent call last)",
            "\u001b[0;32m<ipython-input-188-1d8610d77b53>\u001b[0m in \u001b[0;36m<module>\u001b[0;34m\u001b[0m\n\u001b[1;32m      1\u001b[0m \u001b[0mgame_over\u001b[0m \u001b[0;34m=\u001b[0m \u001b[0;32mFalse\u001b[0m\u001b[0;34m\u001b[0m\u001b[0;34m\u001b[0m\u001b[0m\n\u001b[1;32m      2\u001b[0m \u001b[0;32mwhile\u001b[0m \u001b[0;32mnot\u001b[0m \u001b[0mgame_over\u001b[0m\u001b[0;34m:\u001b[0m\u001b[0;34m\u001b[0m\u001b[0;34m\u001b[0m\u001b[0m\n\u001b[0;32m----> 3\u001b[0;31m     \u001b[0muser_input\u001b[0m \u001b[0;34m=\u001b[0m \u001b[0minput\u001b[0m\u001b[0;34m(\u001b[0m\u001b[0;34m\"What do you want to do? quit or continue?\"\u001b[0m\u001b[0;34m)\u001b[0m\u001b[0;34m\u001b[0m\u001b[0;34m\u001b[0m\u001b[0m\n\u001b[0m\u001b[1;32m      4\u001b[0m     \u001b[0;32mif\u001b[0m \u001b[0muser_input\u001b[0m\u001b[0;34m.\u001b[0m\u001b[0mlower\u001b[0m\u001b[0;34m(\u001b[0m\u001b[0;34m)\u001b[0m \u001b[0;34m==\u001b[0m \u001b[0;34m\"quit\"\u001b[0m\u001b[0;34m:\u001b[0m\u001b[0;34m\u001b[0m\u001b[0;34m\u001b[0m\u001b[0m\n\u001b[1;32m      5\u001b[0m         \u001b[0mgame_over\u001b[0m \u001b[0;34m=\u001b[0m \u001b[0;32mTrue\u001b[0m\u001b[0;34m\u001b[0m\u001b[0;34m\u001b[0m\u001b[0m\n",
            "\u001b[0;32m~/anaconda3/lib/python3.8/site-packages/ipykernel/kernelbase.py\u001b[0m in \u001b[0;36mraw_input\u001b[0;34m(self, prompt)\u001b[0m\n\u001b[1;32m    858\u001b[0m                 \u001b[0;34m\"raw_input was called, but this frontend does not support input requests.\"\u001b[0m\u001b[0;34m\u001b[0m\u001b[0;34m\u001b[0m\u001b[0m\n\u001b[1;32m    859\u001b[0m             )\n\u001b[0;32m--> 860\u001b[0;31m         return self._input_request(str(prompt),\n\u001b[0m\u001b[1;32m    861\u001b[0m             \u001b[0mself\u001b[0m\u001b[0;34m.\u001b[0m\u001b[0m_parent_ident\u001b[0m\u001b[0;34m,\u001b[0m\u001b[0;34m\u001b[0m\u001b[0;34m\u001b[0m\u001b[0m\n\u001b[1;32m    862\u001b[0m             \u001b[0mself\u001b[0m\u001b[0;34m.\u001b[0m\u001b[0m_parent_header\u001b[0m\u001b[0;34m,\u001b[0m\u001b[0;34m\u001b[0m\u001b[0;34m\u001b[0m\u001b[0m\n",
            "\u001b[0;32m~/anaconda3/lib/python3.8/site-packages/ipykernel/kernelbase.py\u001b[0m in \u001b[0;36m_input_request\u001b[0;34m(self, prompt, ident, parent, password)\u001b[0m\n\u001b[1;32m    902\u001b[0m             \u001b[0;32mexcept\u001b[0m \u001b[0mKeyboardInterrupt\u001b[0m\u001b[0;34m:\u001b[0m\u001b[0;34m\u001b[0m\u001b[0;34m\u001b[0m\u001b[0m\n\u001b[1;32m    903\u001b[0m                 \u001b[0;31m# re-raise KeyboardInterrupt, to truncate traceback\u001b[0m\u001b[0;34m\u001b[0m\u001b[0;34m\u001b[0m\u001b[0;34m\u001b[0m\u001b[0m\n\u001b[0;32m--> 904\u001b[0;31m                 \u001b[0;32mraise\u001b[0m \u001b[0mKeyboardInterrupt\u001b[0m\u001b[0;34m(\u001b[0m\u001b[0;34m\"Interrupted by user\"\u001b[0m\u001b[0;34m)\u001b[0m \u001b[0;32mfrom\u001b[0m \u001b[0;32mNone\u001b[0m\u001b[0;34m\u001b[0m\u001b[0;34m\u001b[0m\u001b[0m\n\u001b[0m\u001b[1;32m    905\u001b[0m             \u001b[0;32mexcept\u001b[0m \u001b[0mException\u001b[0m \u001b[0;32mas\u001b[0m \u001b[0me\u001b[0m\u001b[0;34m:\u001b[0m\u001b[0;34m\u001b[0m\u001b[0;34m\u001b[0m\u001b[0m\n\u001b[1;32m    906\u001b[0m                 \u001b[0mself\u001b[0m\u001b[0;34m.\u001b[0m\u001b[0mlog\u001b[0m\u001b[0;34m.\u001b[0m\u001b[0mwarning\u001b[0m\u001b[0;34m(\u001b[0m\u001b[0;34m\"Invalid Message:\"\u001b[0m\u001b[0;34m,\u001b[0m \u001b[0mexc_info\u001b[0m\u001b[0;34m=\u001b[0m\u001b[0;32mTrue\u001b[0m\u001b[0;34m)\u001b[0m\u001b[0;34m\u001b[0m\u001b[0;34m\u001b[0m\u001b[0m\n",
            "\u001b[0;31mKeyboardInterrupt\u001b[0m: Interrupted by user"
          ]
        }
      ]
    },
    {
      "cell_type": "markdown",
      "metadata": {
        "id": "oXETgLlbpeIU"
      },
      "source": [
        "##### Looping 'While True'"
      ]
    },
    {
      "cell_type": "code",
      "metadata": {
        "id": "CbCPI-F4peIU",
        "outputId": "ae6ccf86-77a2-4b1b-82f6-ae839b6f9956"
      },
      "source": [
        "while True:\n",
        "    user_input = input(\"What do you want to do? quit or continue?\")\n",
        "    if user_input.lower() == \"quit\":\n",
        "        break\n",
        "    print(\"Will I print???\")\n",
        " "
      ],
      "execution_count": null,
      "outputs": [
        {
          "name": "stdout",
          "output_type": "stream",
          "text": [
            "What do you want to do? quit or continue?continue\n",
            "Will I print???\n",
            "What do you want to do? quit or continue?quit\n"
          ]
        }
      ]
    },
    {
      "cell_type": "markdown",
      "metadata": {
        "id": "V5sneuDHpeIV"
      },
      "source": [
        "##### While & For Loops Used Together"
      ]
    },
    {
      "cell_type": "code",
      "metadata": {
        "id": "fQQImZoLpeIV",
        "outputId": "0a3f4c19-9cc0-4899-f683-45f89212fd02"
      },
      "source": [
        "num = 0 \n",
        "while num < 5:\n",
        "    print(\"While loop iteration: \",num)\n",
        "    for i in range(5):\n",
        "        print(\"For Loop Iteration: \", i)\n",
        "    num += 1 "
      ],
      "execution_count": null,
      "outputs": [
        {
          "name": "stdout",
          "output_type": "stream",
          "text": [
            "While loop iteration:  0\n",
            "For Loop Iteration:  0\n",
            "For Loop Iteration:  1\n",
            "For Loop Iteration:  2\n",
            "For Loop Iteration:  3\n",
            "For Loop Iteration:  4\n",
            "While loop iteration:  1\n",
            "For Loop Iteration:  0\n",
            "For Loop Iteration:  1\n",
            "For Loop Iteration:  2\n",
            "For Loop Iteration:  3\n",
            "For Loop Iteration:  4\n",
            "While loop iteration:  2\n",
            "For Loop Iteration:  0\n",
            "For Loop Iteration:  1\n",
            "For Loop Iteration:  2\n",
            "For Loop Iteration:  3\n",
            "For Loop Iteration:  4\n",
            "While loop iteration:  3\n",
            "For Loop Iteration:  0\n",
            "For Loop Iteration:  1\n",
            "For Loop Iteration:  2\n",
            "For Loop Iteration:  3\n",
            "For Loop Iteration:  4\n",
            "While loop iteration:  4\n",
            "For Loop Iteration:  0\n",
            "For Loop Iteration:  1\n",
            "For Loop Iteration:  2\n",
            "For Loop Iteration:  3\n",
            "For Loop Iteration:  4\n"
          ]
        }
      ]
    },
    {
      "cell_type": "markdown",
      "metadata": {
        "id": "Y6rwVBe0peIV"
      },
      "source": [
        "### Built-In Functions"
      ]
    },
    {
      "cell_type": "markdown",
      "metadata": {
        "id": "BmlbPvwApeIV"
      },
      "source": [
        "##### range()"
      ]
    },
    {
      "cell_type": "code",
      "metadata": {
        "scrolled": true,
        "id": "kdeyLR__peIV",
        "outputId": "c94deca8-6b60-4208-f71e-175244bd8f19"
      },
      "source": [
        "# start, stop, step\n",
        "\n",
        "list(range(5))"
      ],
      "execution_count": null,
      "outputs": [
        {
          "data": {
            "text/plain": [
              "[0, 1, 2, 3, 4]"
            ]
          },
          "execution_count": 191,
          "metadata": {},
          "output_type": "execute_result"
        }
      ]
    },
    {
      "cell_type": "code",
      "metadata": {
        "scrolled": true,
        "id": "w5RRBBKNpeIV",
        "outputId": "ebc01434-b702-452c-8e6e-f34d9b440348"
      },
      "source": [
        "list(range(5,10))"
      ],
      "execution_count": null,
      "outputs": [
        {
          "data": {
            "text/plain": [
              "[5, 6, 7, 8, 9]"
            ]
          },
          "execution_count": 192,
          "metadata": {},
          "output_type": "execute_result"
        }
      ]
    },
    {
      "cell_type": "code",
      "metadata": {
        "id": "1RwTC-51peIW",
        "outputId": "4678f54a-c4cb-4e4e-cf69-53ca6610d4a0"
      },
      "source": [
        "list(range(5, 10, 2))"
      ],
      "execution_count": null,
      "outputs": [
        {
          "data": {
            "text/plain": [
              "[5, 7, 9]"
            ]
          },
          "execution_count": 193,
          "metadata": {},
          "output_type": "execute_result"
        }
      ]
    },
    {
      "cell_type": "code",
      "metadata": {
        "id": "ZL-zmcE_peIW",
        "outputId": "136ff444-2fd3-4e14-c0e7-4eef5b9cfa19"
      },
      "source": [
        "list(range(10,5,-1))"
      ],
      "execution_count": null,
      "outputs": [
        {
          "data": {
            "text/plain": [
              "[10, 9, 8, 7, 6]"
            ]
          },
          "execution_count": 194,
          "metadata": {},
          "output_type": "execute_result"
        }
      ]
    },
    {
      "cell_type": "markdown",
      "metadata": {
        "id": "GX_JA2hMpeIW"
      },
      "source": [
        "##### len()"
      ]
    },
    {
      "cell_type": "code",
      "metadata": {
        "id": "61Pel7DIpeIW",
        "outputId": "3ddfa54e-18db-4431-cbaf-eaa683f722fe"
      },
      "source": [
        "len(\"hello\")"
      ],
      "execution_count": null,
      "outputs": [
        {
          "data": {
            "text/plain": [
              "5"
            ]
          },
          "execution_count": 195,
          "metadata": {},
          "output_type": "execute_result"
        }
      ]
    },
    {
      "cell_type": "code",
      "metadata": {
        "id": "tHuNFlLLpeIW",
        "outputId": "1fbca6e0-421d-4662-b959-3b35b36346a2"
      },
      "source": [
        "len([1,2,3,4])"
      ],
      "execution_count": null,
      "outputs": [
        {
          "data": {
            "text/plain": [
              "4"
            ]
          },
          "execution_count": 196,
          "metadata": {},
          "output_type": "execute_result"
        }
      ]
    },
    {
      "cell_type": "code",
      "metadata": {
        "id": "KukhoD79peIW"
      },
      "source": [
        ""
      ],
      "execution_count": null,
      "outputs": []
    },
    {
      "cell_type": "markdown",
      "metadata": {
        "id": "9jx_mOM0peIW"
      },
      "source": [
        "##### help()"
      ]
    },
    {
      "cell_type": "code",
      "metadata": {
        "id": "TkWHLs59peIX",
        "outputId": "830afceb-efac-4ae6-c338-2f8ec17d2cc3"
      },
      "source": [
        " help(int)\n"
      ],
      "execution_count": null,
      "outputs": [
        {
          "name": "stdout",
          "output_type": "stream",
          "text": [
            "Help on class int in module builtins:\n",
            "\n",
            "class int(object)\n",
            " |  int([x]) -> integer\n",
            " |  int(x, base=10) -> integer\n",
            " |  \n",
            " |  Convert a number or string to an integer, or return 0 if no arguments\n",
            " |  are given.  If x is a number, return x.__int__().  For floating point\n",
            " |  numbers, this truncates towards zero.\n",
            " |  \n",
            " |  If x is not a number or if base is given, then x must be a string,\n",
            " |  bytes, or bytearray instance representing an integer literal in the\n",
            " |  given base.  The literal can be preceded by '+' or '-' and be surrounded\n",
            " |  by whitespace.  The base defaults to 10.  Valid bases are 0 and 2-36.\n",
            " |  Base 0 means to interpret the base from the string as an integer literal.\n",
            " |  >>> int('0b100', base=0)\n",
            " |  4\n",
            " |  \n",
            " |  Built-in subclasses:\n",
            " |      bool\n",
            " |  \n",
            " |  Methods defined here:\n",
            " |  \n",
            " |  __abs__(self, /)\n",
            " |      abs(self)\n",
            " |  \n",
            " |  __add__(self, value, /)\n",
            " |      Return self+value.\n",
            " |  \n",
            " |  __and__(self, value, /)\n",
            " |      Return self&value.\n",
            " |  \n",
            " |  __bool__(self, /)\n",
            " |      self != 0\n",
            " |  \n",
            " |  __ceil__(...)\n",
            " |      Ceiling of an Integral returns itself.\n",
            " |  \n",
            " |  __divmod__(self, value, /)\n",
            " |      Return divmod(self, value).\n",
            " |  \n",
            " |  __eq__(self, value, /)\n",
            " |      Return self==value.\n",
            " |  \n",
            " |  __float__(self, /)\n",
            " |      float(self)\n",
            " |  \n",
            " |  __floor__(...)\n",
            " |      Flooring an Integral returns itself.\n",
            " |  \n",
            " |  __floordiv__(self, value, /)\n",
            " |      Return self//value.\n",
            " |  \n",
            " |  __format__(self, format_spec, /)\n",
            " |      Default object formatter.\n",
            " |  \n",
            " |  __ge__(self, value, /)\n",
            " |      Return self>=value.\n",
            " |  \n",
            " |  __getattribute__(self, name, /)\n",
            " |      Return getattr(self, name).\n",
            " |  \n",
            " |  __getnewargs__(self, /)\n",
            " |  \n",
            " |  __gt__(self, value, /)\n",
            " |      Return self>value.\n",
            " |  \n",
            " |  __hash__(self, /)\n",
            " |      Return hash(self).\n",
            " |  \n",
            " |  __index__(self, /)\n",
            " |      Return self converted to an integer, if self is suitable for use as an index into a list.\n",
            " |  \n",
            " |  __int__(self, /)\n",
            " |      int(self)\n",
            " |  \n",
            " |  __invert__(self, /)\n",
            " |      ~self\n",
            " |  \n",
            " |  __le__(self, value, /)\n",
            " |      Return self<=value.\n",
            " |  \n",
            " |  __lshift__(self, value, /)\n",
            " |      Return self<<value.\n",
            " |  \n",
            " |  __lt__(self, value, /)\n",
            " |      Return self<value.\n",
            " |  \n",
            " |  __mod__(self, value, /)\n",
            " |      Return self%value.\n",
            " |  \n",
            " |  __mul__(self, value, /)\n",
            " |      Return self*value.\n",
            " |  \n",
            " |  __ne__(self, value, /)\n",
            " |      Return self!=value.\n",
            " |  \n",
            " |  __neg__(self, /)\n",
            " |      -self\n",
            " |  \n",
            " |  __or__(self, value, /)\n",
            " |      Return self|value.\n",
            " |  \n",
            " |  __pos__(self, /)\n",
            " |      +self\n",
            " |  \n",
            " |  __pow__(self, value, mod=None, /)\n",
            " |      Return pow(self, value, mod).\n",
            " |  \n",
            " |  __radd__(self, value, /)\n",
            " |      Return value+self.\n",
            " |  \n",
            " |  __rand__(self, value, /)\n",
            " |      Return value&self.\n",
            " |  \n",
            " |  __rdivmod__(self, value, /)\n",
            " |      Return divmod(value, self).\n",
            " |  \n",
            " |  __repr__(self, /)\n",
            " |      Return repr(self).\n",
            " |  \n",
            " |  __rfloordiv__(self, value, /)\n",
            " |      Return value//self.\n",
            " |  \n",
            " |  __rlshift__(self, value, /)\n",
            " |      Return value<<self.\n",
            " |  \n",
            " |  __rmod__(self, value, /)\n",
            " |      Return value%self.\n",
            " |  \n",
            " |  __rmul__(self, value, /)\n",
            " |      Return value*self.\n",
            " |  \n",
            " |  __ror__(self, value, /)\n",
            " |      Return value|self.\n",
            " |  \n",
            " |  __round__(...)\n",
            " |      Rounding an Integral returns itself.\n",
            " |      Rounding with an ndigits argument also returns an integer.\n",
            " |  \n",
            " |  __rpow__(self, value, mod=None, /)\n",
            " |      Return pow(value, self, mod).\n",
            " |  \n",
            " |  __rrshift__(self, value, /)\n",
            " |      Return value>>self.\n",
            " |  \n",
            " |  __rshift__(self, value, /)\n",
            " |      Return self>>value.\n",
            " |  \n",
            " |  __rsub__(self, value, /)\n",
            " |      Return value-self.\n",
            " |  \n",
            " |  __rtruediv__(self, value, /)\n",
            " |      Return value/self.\n",
            " |  \n",
            " |  __rxor__(self, value, /)\n",
            " |      Return value^self.\n",
            " |  \n",
            " |  __sizeof__(self, /)\n",
            " |      Returns size in memory, in bytes.\n",
            " |  \n",
            " |  __sub__(self, value, /)\n",
            " |      Return self-value.\n",
            " |  \n",
            " |  __truediv__(self, value, /)\n",
            " |      Return self/value.\n",
            " |  \n",
            " |  __trunc__(...)\n",
            " |      Truncating an Integral returns itself.\n",
            " |  \n",
            " |  __xor__(self, value, /)\n",
            " |      Return self^value.\n",
            " |  \n",
            " |  as_integer_ratio(self, /)\n",
            " |      Return integer ratio.\n",
            " |      \n",
            " |      Return a pair of integers, whose ratio is exactly equal to the original int\n",
            " |      and with a positive denominator.\n",
            " |      \n",
            " |      >>> (10).as_integer_ratio()\n",
            " |      (10, 1)\n",
            " |      >>> (-10).as_integer_ratio()\n",
            " |      (-10, 1)\n",
            " |      >>> (0).as_integer_ratio()\n",
            " |      (0, 1)\n",
            " |  \n",
            " |  bit_length(self, /)\n",
            " |      Number of bits necessary to represent self in binary.\n",
            " |      \n",
            " |      >>> bin(37)\n",
            " |      '0b100101'\n",
            " |      >>> (37).bit_length()\n",
            " |      6\n",
            " |  \n",
            " |  conjugate(...)\n",
            " |      Returns self, the complex conjugate of any int.\n",
            " |  \n",
            " |  to_bytes(self, /, length, byteorder, *, signed=False)\n",
            " |      Return an array of bytes representing an integer.\n",
            " |      \n",
            " |      length\n",
            " |        Length of bytes object to use.  An OverflowError is raised if the\n",
            " |        integer is not representable with the given number of bytes.\n",
            " |      byteorder\n",
            " |        The byte order used to represent the integer.  If byteorder is 'big',\n",
            " |        the most significant byte is at the beginning of the byte array.  If\n",
            " |        byteorder is 'little', the most significant byte is at the end of the\n",
            " |        byte array.  To request the native byte order of the host system, use\n",
            " |        `sys.byteorder' as the byte order value.\n",
            " |      signed\n",
            " |        Determines whether two's complement is used to represent the integer.\n",
            " |        If signed is False and a negative integer is given, an OverflowError\n",
            " |        is raised.\n",
            " |  \n",
            " |  ----------------------------------------------------------------------\n",
            " |  Class methods defined here:\n",
            " |  \n",
            " |  from_bytes(bytes, byteorder, *, signed=False) from builtins.type\n",
            " |      Return the integer represented by the given array of bytes.\n",
            " |      \n",
            " |      bytes\n",
            " |        Holds the array of bytes to convert.  The argument must either\n",
            " |        support the buffer protocol or be an iterable object producing bytes.\n",
            " |        Bytes and bytearray are examples of built-in objects that support the\n",
            " |        buffer protocol.\n",
            " |      byteorder\n",
            " |        The byte order used to represent the integer.  If byteorder is 'big',\n",
            " |        the most significant byte is at the beginning of the byte array.  If\n",
            " |        byteorder is 'little', the most significant byte is at the end of the\n",
            " |        byte array.  To request the native byte order of the host system, use\n",
            " |        `sys.byteorder' as the byte order value.\n",
            " |      signed\n",
            " |        Indicates whether two's complement is used to represent the integer.\n",
            " |  \n",
            " |  ----------------------------------------------------------------------\n",
            " |  Static methods defined here:\n",
            " |  \n",
            " |  __new__(*args, **kwargs) from builtins.type\n",
            " |      Create and return a new object.  See help(type) for accurate signature.\n",
            " |  \n",
            " |  ----------------------------------------------------------------------\n",
            " |  Data descriptors defined here:\n",
            " |  \n",
            " |  denominator\n",
            " |      the denominator of a rational number in lowest terms\n",
            " |  \n",
            " |  imag\n",
            " |      the imaginary part of a complex number\n",
            " |  \n",
            " |  numerator\n",
            " |      the numerator of a rational number in lowest terms\n",
            " |  \n",
            " |  real\n",
            " |      the real part of a complex number\n",
            "\n"
          ]
        }
      ]
    },
    {
      "cell_type": "code",
      "metadata": {
        "id": "8CUT1T5OpeIX",
        "outputId": "5a01be29-9db8-4c8b-a437-f2f05a7bcdfb"
      },
      "source": [
        "dir(list)"
      ],
      "execution_count": null,
      "outputs": [
        {
          "data": {
            "text/plain": [
              "['__add__',\n",
              " '__class__',\n",
              " '__contains__',\n",
              " '__delattr__',\n",
              " '__delitem__',\n",
              " '__dir__',\n",
              " '__doc__',\n",
              " '__eq__',\n",
              " '__format__',\n",
              " '__ge__',\n",
              " '__getattribute__',\n",
              " '__getitem__',\n",
              " '__gt__',\n",
              " '__hash__',\n",
              " '__iadd__',\n",
              " '__imul__',\n",
              " '__init__',\n",
              " '__init_subclass__',\n",
              " '__iter__',\n",
              " '__le__',\n",
              " '__len__',\n",
              " '__lt__',\n",
              " '__mul__',\n",
              " '__ne__',\n",
              " '__new__',\n",
              " '__reduce__',\n",
              " '__reduce_ex__',\n",
              " '__repr__',\n",
              " '__reversed__',\n",
              " '__rmul__',\n",
              " '__setattr__',\n",
              " '__setitem__',\n",
              " '__sizeof__',\n",
              " '__str__',\n",
              " '__subclasshook__',\n",
              " 'append',\n",
              " 'clear',\n",
              " 'copy',\n",
              " 'count',\n",
              " 'extend',\n",
              " 'index',\n",
              " 'insert',\n",
              " 'pop',\n",
              " 'remove',\n",
              " 'reverse',\n",
              " 'sort']"
            ]
          },
          "execution_count": 200,
          "metadata": {},
          "output_type": "execute_result"
        }
      ]
    },
    {
      "cell_type": "markdown",
      "metadata": {
        "id": "d7eG6bMapeIX"
      },
      "source": [
        "##### isinstance()"
      ]
    },
    {
      "cell_type": "code",
      "metadata": {
        "id": "syLYkl8jpeIX",
        "outputId": "d075869f-4f64-4ac0-a331-b202474ffb9c"
      },
      "source": [
        "# returns bool \n",
        "# isintance(var, type)\n",
        "num = 3\n",
        "print(isinstance(num, int))\n",
        "print(isinstance(num, str))"
      ],
      "execution_count": null,
      "outputs": [
        {
          "name": "stdout",
          "output_type": "stream",
          "text": [
            "True\n",
            "False\n"
          ]
        }
      ]
    },
    {
      "cell_type": "markdown",
      "metadata": {
        "id": "5FvbteRupeIY"
      },
      "source": [
        "##### abs()"
      ]
    },
    {
      "cell_type": "code",
      "metadata": {
        "id": "uOCmTAKrpeIY",
        "outputId": "c31613b9-039e-406b-d778-a6e0c48a2d25"
      },
      "source": [
        "# | -5 |  = 5 .. which measure the dist from Zero\n",
        "\n",
        "print(abs(-5))\n",
        "print(abs(5))\n"
      ],
      "execution_count": null,
      "outputs": [
        {
          "name": "stdout",
          "output_type": "stream",
          "text": [
            "5\n",
            "5\n"
          ]
        }
      ]
    },
    {
      "cell_type": "markdown",
      "metadata": {
        "id": "BmmRPByopeIZ"
      },
      "source": [
        "### Try and Except"
      ]
    },
    {
      "cell_type": "code",
      "metadata": {
        "id": "ta8ggYNmpeIZ",
        "outputId": "d47c2911-e4fa-4e12-8fde-5e612f11838c"
      },
      "source": [
        "int(\"Steve\")"
      ],
      "execution_count": null,
      "outputs": [
        {
          "ename": "ValueError",
          "evalue": "invalid literal for int() with base 10: 'Steve'",
          "output_type": "error",
          "traceback": [
            "\u001b[0;31m---------------------------------------------------------------------------\u001b[0m",
            "\u001b[0;31mValueError\u001b[0m                                Traceback (most recent call last)",
            "\u001b[0;32m<ipython-input-205-a43bee992a4a>\u001b[0m in \u001b[0;36m<module>\u001b[0;34m\u001b[0m\n\u001b[0;32m----> 1\u001b[0;31m \u001b[0mint\u001b[0m\u001b[0;34m(\u001b[0m\u001b[0;34m\"Steve\"\u001b[0m\u001b[0;34m)\u001b[0m\u001b[0;34m\u001b[0m\u001b[0;34m\u001b[0m\u001b[0m\n\u001b[0m",
            "\u001b[0;31mValueError\u001b[0m: invalid literal for int() with base 10: 'Steve'"
          ]
        }
      ]
    },
    {
      "cell_type": "code",
      "metadata": {
        "scrolled": true,
        "id": "Uo5x8Ww7peIZ",
        "outputId": "4a9d7c92-028b-4bf7-8f86-8e4fe9fd1895"
      },
      "source": [
        "\n",
        "try:\n",
        "    number_test = 0\n",
        "    input_num = int(input(\"Guess a Number: \"))\n",
        "    if input_num != number_test:\n",
        "        input_num = input_num + number_test\n",
        "        print(f'Your number is: {input_num}')\n",
        "except:\n",
        "    print(\"That didn't work -- Make sure you Input is a Number Please!!!\")\n",
        "\n",
        "\n",
        "\n"
      ],
      "execution_count": null,
      "outputs": [
        {
          "name": "stdout",
          "output_type": "stream",
          "text": [
            "Guess a Number: asfd\n",
            "That didn't work -- Make sure you Input is a Number Please!!!\n"
          ]
        }
      ]
    },
    {
      "cell_type": "code",
      "metadata": {
        "id": "fraomMkSpeIZ",
        "outputId": "cfca1717-c8e0-4f1a-ddf4-444aaa81c1f9"
      },
      "source": [
        "def divide(num1, num2):\n",
        "    try:\n",
        "        print(num1/num2)\n",
        "    except ZeroDivisionError:\n",
        "        print(0)\n",
        "    except TypeError:\n",
        "        print(\"Sorry I  need numbers\")\n",
        "        \n",
        "divide(1,0)"
      ],
      "execution_count": null,
      "outputs": [
        {
          "name": "stdout",
          "output_type": "stream",
          "text": [
            "0\n"
          ]
        }
      ]
    },
    {
      "cell_type": "markdown",
      "metadata": {
        "id": "zvRrEMkKpeIZ"
      },
      "source": [
        "### Lists"
      ]
    },
    {
      "cell_type": "markdown",
      "metadata": {
        "id": "9RRK9Pt3peIZ"
      },
      "source": [
        "##### Declaring Lists"
      ]
    },
    {
      "cell_type": "code",
      "metadata": {
        "id": "Aa65X4BRpeIZ",
        "outputId": "0c0503a1-7af4-442f-ea32-34611a01229f"
      },
      "source": [
        "names = [\"Max\", \"Cindy\", \"Kathy\", \"Brad\"]\n",
        "print(names)"
      ],
      "execution_count": null,
      "outputs": [
        {
          "name": "stdout",
          "output_type": "stream",
          "text": [
            "['Max', 'Cindy', 'Kathy', 'Brad']\n"
          ]
        }
      ]
    },
    {
      "cell_type": "code",
      "metadata": {
        "id": "a-hZMCmwpeIa"
      },
      "source": [
        "a_list = [1,2.5, [1,2,3], \"string\"]"
      ],
      "execution_count": null,
      "outputs": []
    },
    {
      "cell_type": "markdown",
      "metadata": {
        "id": "jUbzQqVvpeIa"
      },
      "source": [
        "##### Indexing a List"
      ]
    },
    {
      "cell_type": "code",
      "metadata": {
        "id": "35l54LeHpeIa",
        "outputId": "6e24049c-a7c0-4182-a24e-3072e0f7a48e"
      },
      "source": [
        "print(names[-3])\n",
        "print(names[1])\n",
        "# list_name[index]\n",
        "\n",
        "\n",
        "# Slicing [start:end:step]\n",
        "print(\n",
        "    names[1:3]\n",
        ")\n",
        "\n",
        "print(\n",
        "    names[:]\n",
        ")\n",
        "\n",
        "print(\n",
        "    names[:3]\n",
        ")\n",
        "\n",
        "print(\n",
        "    names[1:]\n",
        ")\n",
        "\n",
        "\n",
        "print(\n",
        "    names[::2]\n",
        ")\n",
        "\n",
        "print(\n",
        "    names[::-1]\n",
        ")\n",
        "\n",
        "# Slcing also works on strings\n",
        "print(\"Steve\"[::-1])\n",
        "\n",
        "print(\"racecar\"[::-1])\n",
        "\n",
        "my_string = \"racecar\"\n",
        "if my_string == my_string[::-1]:\n",
        "    print(\"palindrome\")"
      ],
      "execution_count": null,
      "outputs": [
        {
          "name": "stdout",
          "output_type": "stream",
          "text": [
            "Cindy\n",
            "Cindy\n",
            "['Cindy', 'Kathy']\n",
            "['Max', 'Cindy', 'Kathy', 'Brad']\n",
            "['Max', 'Cindy', 'Kathy']\n",
            "['Cindy', 'Kathy', 'Brad']\n",
            "['Max', 'Kathy']\n",
            "['Brad', 'Kathy', 'Cindy', 'Max']\n",
            "evetS\n",
            "racecar\n",
            "palindrome\n"
          ]
        }
      ]
    },
    {
      "cell_type": "markdown",
      "metadata": {
        "id": "52Z8RYJ1peIa"
      },
      "source": [
        "##### .append()"
      ]
    },
    {
      "cell_type": "code",
      "metadata": {
        "id": "U8zzP7pNpeIa",
        "outputId": "4f7bc0c3-5d79-4edf-f044-242791ce734b"
      },
      "source": [
        "# Works in-place!\n",
        "names.append(\"Austin\")\n",
        "\n",
        "print(names)\n"
      ],
      "execution_count": null,
      "outputs": [
        {
          "name": "stdout",
          "output_type": "stream",
          "text": [
            "['Max', 'Cindy', 'Kathy', 'Brad', 'Austin']\n"
          ]
        }
      ]
    },
    {
      "cell_type": "markdown",
      "metadata": {
        "id": "mQT5LCftpeIa"
      },
      "source": [
        "##### .insert()"
      ]
    },
    {
      "cell_type": "code",
      "metadata": {
        "scrolled": true,
        "id": "nh-M7nuvpeIa",
        "outputId": "38f66930-4bb5-4a1d-9d76-de3a87738ffa"
      },
      "source": [
        "names.insert(1,\"Anu\")\n",
        "print(names)\n"
      ],
      "execution_count": null,
      "outputs": [
        {
          "name": "stdout",
          "output_type": "stream",
          "text": [
            "['Max', 'Anu', 'Cindy', 'Kathy', 'Brad', 'Austin']\n"
          ]
        }
      ]
    },
    {
      "cell_type": "code",
      "metadata": {
        "id": "RDF2du7YpeIb",
        "outputId": "3fec8145-d7be-447f-a6fe-ed578d4d03a9"
      },
      "source": [
        "names[2]=\"Natasha\"\n",
        "names"
      ],
      "execution_count": null,
      "outputs": [
        {
          "data": {
            "text/plain": [
              "['Max', 'Anu', 'Natasha', 'Kathy', 'Brad', 'Austin']"
            ]
          },
          "execution_count": 248,
          "metadata": {},
          "output_type": "execute_result"
        }
      ]
    },
    {
      "cell_type": "markdown",
      "metadata": {
        "id": "EciokIb9peIb"
      },
      "source": [
        "##### .pop()"
      ]
    },
    {
      "cell_type": "code",
      "metadata": {
        "id": "dIOzFfXppeIb",
        "outputId": "2fc07f0e-51ed-4e36-a163-23d11b7b671e"
      },
      "source": [
        "my_list = [\"A\",\"B\",\"C\",\"D\"]\n",
        "d = my_list.pop()\n",
        "print(d, type(d))\n",
        "my_list"
      ],
      "execution_count": null,
      "outputs": [
        {
          "name": "stdout",
          "output_type": "stream",
          "text": [
            "D <class 'str'>\n"
          ]
        },
        {
          "data": {
            "text/plain": [
              "['A', 'B', 'C']"
            ]
          },
          "execution_count": 251,
          "metadata": {},
          "output_type": "execute_result"
        }
      ]
    },
    {
      "cell_type": "code",
      "metadata": {
        "id": "bTk5PpdXpeIb",
        "outputId": "f753cfcb-8ef0-4088-d1cd-aca36afe3984"
      },
      "source": [
        "my_list = [\"A\",\"B\",\"C\",\"D\"]\n",
        "d = my_list.pop(2)\n",
        "print(d)\n",
        "my_list"
      ],
      "execution_count": null,
      "outputs": [
        {
          "name": "stdout",
          "output_type": "stream",
          "text": [
            "C\n"
          ]
        },
        {
          "data": {
            "text/plain": [
              "['A', 'B', 'D']"
            ]
          },
          "execution_count": 253,
          "metadata": {},
          "output_type": "execute_result"
        }
      ]
    },
    {
      "cell_type": "markdown",
      "metadata": {
        "id": "_VIsu2yHpeIb"
      },
      "source": [
        "\n",
        "##### .remove()"
      ]
    },
    {
      "cell_type": "code",
      "metadata": {
        "id": "dPKed64qpeIb",
        "outputId": "d1815219-0506-4fa9-b52c-e65e0d98a4de"
      },
      "source": [
        "#remove by value\n",
        "my_list = [\"A\",\"B\",\"C\",\"D\", \"B\"]\n",
        "\n",
        "my_list.remove(\"B\")\n",
        "print(my_list)\n",
        "\n"
      ],
      "execution_count": null,
      "outputs": [
        {
          "name": "stdout",
          "output_type": "stream",
          "text": [
            "['A', 'C', 'D', 'B']\n"
          ]
        }
      ]
    },
    {
      "cell_type": "markdown",
      "metadata": {
        "id": "qbRNsR0BpeIb"
      },
      "source": [
        "##### del()"
      ]
    },
    {
      "cell_type": "code",
      "metadata": {
        "id": "-M4leXpApeIc",
        "outputId": "ab0eb455-ca2d-4a7c-ffe7-403490b193d8"
      },
      "source": [
        "# remove by index\n",
        "#Be careeful using in a loop!!!! you wil get indexing errors\n",
        "my_list = [\"A\",\"B\",\"C\",\"D\", \"B\"]\n",
        "del my_list[2]\n",
        "my_list"
      ],
      "execution_count": null,
      "outputs": [
        {
          "data": {
            "text/plain": [
              "['A', 'B', 'D', 'B']"
            ]
          },
          "execution_count": 255,
          "metadata": {},
          "output_type": "execute_result"
        }
      ]
    },
    {
      "cell_type": "code",
      "metadata": {
        "id": "hZFRpZznpeIc",
        "outputId": "e28d68e1-9ce0-47f7-e316-2ba0a250d5c5"
      },
      "source": [
        "for i in range(len(names)):\n",
        "    if i==2:\n",
        "        del names[i]\n",
        "    print(names[i])"
      ],
      "execution_count": null,
      "outputs": [
        {
          "name": "stdout",
          "output_type": "stream",
          "text": [
            "Max\n",
            "Anu\n",
            "Kathy\n",
            "Brad\n"
          ]
        },
        {
          "ename": "IndexError",
          "evalue": "list index out of range",
          "output_type": "error",
          "traceback": [
            "\u001b[0;31m---------------------------------------------------------------------------\u001b[0m",
            "\u001b[0;31mIndexError\u001b[0m                                Traceback (most recent call last)",
            "\u001b[0;32m<ipython-input-256-89b13d96ced2>\u001b[0m in \u001b[0;36m<module>\u001b[0;34m\u001b[0m\n\u001b[1;32m      2\u001b[0m     \u001b[0;32mif\u001b[0m \u001b[0mi\u001b[0m\u001b[0;34m==\u001b[0m\u001b[0;36m2\u001b[0m\u001b[0;34m:\u001b[0m\u001b[0;34m\u001b[0m\u001b[0;34m\u001b[0m\u001b[0m\n\u001b[1;32m      3\u001b[0m         \u001b[0;32mdel\u001b[0m \u001b[0mnames\u001b[0m\u001b[0;34m[\u001b[0m\u001b[0mi\u001b[0m\u001b[0;34m]\u001b[0m\u001b[0;34m\u001b[0m\u001b[0;34m\u001b[0m\u001b[0m\n\u001b[0;32m----> 4\u001b[0;31m     \u001b[0mprint\u001b[0m\u001b[0;34m(\u001b[0m\u001b[0mnames\u001b[0m\u001b[0;34m[\u001b[0m\u001b[0mi\u001b[0m\u001b[0;34m]\u001b[0m\u001b[0;34m)\u001b[0m\u001b[0;34m\u001b[0m\u001b[0;34m\u001b[0m\u001b[0m\n\u001b[0m",
            "\u001b[0;31mIndexError\u001b[0m: list index out of range"
          ]
        }
      ]
    },
    {
      "cell_type": "markdown",
      "metadata": {
        "id": "V8FQBCHMpeIc"
      },
      "source": [
        "##### Concatenating Two Lists"
      ]
    },
    {
      "cell_type": "code",
      "metadata": {
        "scrolled": true,
        "id": "oa1IlZR7peIc",
        "outputId": "9abeb220-3851-4349-bcd4-68a6d5d6323c"
      },
      "source": [
        "l_2 = [0,1,2]\n",
        "l_3 = [3,4,5]\n",
        "\n",
        "large_list = l_2 + l_3\n",
        "print(large_list)"
      ],
      "execution_count": null,
      "outputs": [
        {
          "name": "stdout",
          "output_type": "stream",
          "text": [
            "[0, 1, 2, 3, 4, 5]\n"
          ]
        }
      ]
    },
    {
      "cell_type": "code",
      "metadata": {
        "id": "BrtYai4mpeIc",
        "outputId": "ac0a5a94-df52-4c41-979a-af877a6f4c69"
      },
      "source": [
        "l_2.extend(l_3)\n",
        "l_2"
      ],
      "execution_count": null,
      "outputs": [
        {
          "data": {
            "text/plain": [
              "[0, 1, 2, 3, 4, 5]"
            ]
          },
          "execution_count": 261,
          "metadata": {},
          "output_type": "execute_result"
        }
      ]
    },
    {
      "cell_type": "code",
      "metadata": {
        "id": "dUem3zEypeIc"
      },
      "source": [
        ""
      ],
      "execution_count": null,
      "outputs": []
    },
    {
      "cell_type": "markdown",
      "metadata": {
        "id": "9vArAMnhpeIc"
      },
      "source": [
        "##### Lists Within Lists"
      ]
    },
    {
      "cell_type": "code",
      "metadata": {
        "id": "BjZp6zxhpeId",
        "outputId": "195ee7e7-735b-4d75-9780-18b22e6f6490"
      },
      "source": [
        "my_nested_list = [\"Max\", \"Sally\", \"Jason\", [1,2,[\"a\",\"b\"],3], \"Jessica\"]\n",
        "\n",
        "my_nested_list[3][2][0]"
      ],
      "execution_count": null,
      "outputs": [
        {
          "data": {
            "text/plain": [
              "'a'"
            ]
          },
          "execution_count": 267,
          "metadata": {},
          "output_type": "execute_result"
        }
      ]
    },
    {
      "cell_type": "markdown",
      "metadata": {
        "id": "scgfJHZxpeId"
      },
      "source": [
        "##### Looping Through Lists"
      ]
    },
    {
      "cell_type": "code",
      "metadata": {
        "id": "Hcnd41cBpeId"
      },
      "source": [
        "\n",
        "#### WAYYY ABOVE"
      ],
      "execution_count": null,
      "outputs": []
    },
    {
      "cell_type": "markdown",
      "metadata": {
        "id": "8p91mIKhpeId"
      },
      "source": [
        "## Exercise #1 <br>\n",
        "<p>Cube Number Test... Print out all cubed numbers up to the total value 1000, so if the cubed number is over 1000 break the loop.</p>"
      ]
    },
    {
      "cell_type": "code",
      "metadata": {
        "scrolled": false,
        "colab": {
          "base_uri": "https://localhost:8080/"
        },
        "id": "j4S9Asa4peId",
        "outputId": "3a5dc4c5-6d19-47dd-ae58-cc29d5907895"
      },
      "source": [
        "num = 0\n",
        "while num < 1000:\n",
        "    print(num)\n",
        "    num += 1^3"
      ],
      "execution_count": null,
      "outputs": [
        {
          "output_type": "stream",
          "name": "stdout",
          "text": [
            "0\n",
            "2\n",
            "4\n",
            "6\n",
            "8\n",
            "10\n",
            "12\n",
            "14\n",
            "16\n",
            "18\n",
            "20\n",
            "22\n",
            "24\n",
            "26\n",
            "28\n",
            "30\n",
            "32\n",
            "34\n",
            "36\n",
            "38\n",
            "40\n",
            "42\n",
            "44\n",
            "46\n",
            "48\n",
            "50\n",
            "52\n",
            "54\n",
            "56\n",
            "58\n",
            "60\n",
            "62\n",
            "64\n",
            "66\n",
            "68\n",
            "70\n",
            "72\n",
            "74\n",
            "76\n",
            "78\n",
            "80\n",
            "82\n",
            "84\n",
            "86\n",
            "88\n",
            "90\n",
            "92\n",
            "94\n",
            "96\n",
            "98\n",
            "100\n",
            "102\n",
            "104\n",
            "106\n",
            "108\n",
            "110\n",
            "112\n",
            "114\n",
            "116\n",
            "118\n",
            "120\n",
            "122\n",
            "124\n",
            "126\n",
            "128\n",
            "130\n",
            "132\n",
            "134\n",
            "136\n",
            "138\n",
            "140\n",
            "142\n",
            "144\n",
            "146\n",
            "148\n",
            "150\n",
            "152\n",
            "154\n",
            "156\n",
            "158\n",
            "160\n",
            "162\n",
            "164\n",
            "166\n",
            "168\n",
            "170\n",
            "172\n",
            "174\n",
            "176\n",
            "178\n",
            "180\n",
            "182\n",
            "184\n",
            "186\n",
            "188\n",
            "190\n",
            "192\n",
            "194\n",
            "196\n",
            "198\n",
            "200\n",
            "202\n",
            "204\n",
            "206\n",
            "208\n",
            "210\n",
            "212\n",
            "214\n",
            "216\n",
            "218\n",
            "220\n",
            "222\n",
            "224\n",
            "226\n",
            "228\n",
            "230\n",
            "232\n",
            "234\n",
            "236\n",
            "238\n",
            "240\n",
            "242\n",
            "244\n",
            "246\n",
            "248\n",
            "250\n",
            "252\n",
            "254\n",
            "256\n",
            "258\n",
            "260\n",
            "262\n",
            "264\n",
            "266\n",
            "268\n",
            "270\n",
            "272\n",
            "274\n",
            "276\n",
            "278\n",
            "280\n",
            "282\n",
            "284\n",
            "286\n",
            "288\n",
            "290\n",
            "292\n",
            "294\n",
            "296\n",
            "298\n",
            "300\n",
            "302\n",
            "304\n",
            "306\n",
            "308\n",
            "310\n",
            "312\n",
            "314\n",
            "316\n",
            "318\n",
            "320\n",
            "322\n",
            "324\n",
            "326\n",
            "328\n",
            "330\n",
            "332\n",
            "334\n",
            "336\n",
            "338\n",
            "340\n",
            "342\n",
            "344\n",
            "346\n",
            "348\n",
            "350\n",
            "352\n",
            "354\n",
            "356\n",
            "358\n",
            "360\n",
            "362\n",
            "364\n",
            "366\n",
            "368\n",
            "370\n",
            "372\n",
            "374\n",
            "376\n",
            "378\n",
            "380\n",
            "382\n",
            "384\n",
            "386\n",
            "388\n",
            "390\n",
            "392\n",
            "394\n",
            "396\n",
            "398\n",
            "400\n",
            "402\n",
            "404\n",
            "406\n",
            "408\n",
            "410\n",
            "412\n",
            "414\n",
            "416\n",
            "418\n",
            "420\n",
            "422\n",
            "424\n",
            "426\n",
            "428\n",
            "430\n",
            "432\n",
            "434\n",
            "436\n",
            "438\n",
            "440\n",
            "442\n",
            "444\n",
            "446\n",
            "448\n",
            "450\n",
            "452\n",
            "454\n",
            "456\n",
            "458\n",
            "460\n",
            "462\n",
            "464\n",
            "466\n",
            "468\n",
            "470\n",
            "472\n",
            "474\n",
            "476\n",
            "478\n",
            "480\n",
            "482\n",
            "484\n",
            "486\n",
            "488\n",
            "490\n",
            "492\n",
            "494\n",
            "496\n",
            "498\n",
            "500\n",
            "502\n",
            "504\n",
            "506\n",
            "508\n",
            "510\n",
            "512\n",
            "514\n",
            "516\n",
            "518\n",
            "520\n",
            "522\n",
            "524\n",
            "526\n",
            "528\n",
            "530\n",
            "532\n",
            "534\n",
            "536\n",
            "538\n",
            "540\n",
            "542\n",
            "544\n",
            "546\n",
            "548\n",
            "550\n",
            "552\n",
            "554\n",
            "556\n",
            "558\n",
            "560\n",
            "562\n",
            "564\n",
            "566\n",
            "568\n",
            "570\n",
            "572\n",
            "574\n",
            "576\n",
            "578\n",
            "580\n",
            "582\n",
            "584\n",
            "586\n",
            "588\n",
            "590\n",
            "592\n",
            "594\n",
            "596\n",
            "598\n",
            "600\n",
            "602\n",
            "604\n",
            "606\n",
            "608\n",
            "610\n",
            "612\n",
            "614\n",
            "616\n",
            "618\n",
            "620\n",
            "622\n",
            "624\n",
            "626\n",
            "628\n",
            "630\n",
            "632\n",
            "634\n",
            "636\n",
            "638\n",
            "640\n",
            "642\n",
            "644\n",
            "646\n",
            "648\n",
            "650\n",
            "652\n",
            "654\n",
            "656\n",
            "658\n",
            "660\n",
            "662\n",
            "664\n",
            "666\n",
            "668\n",
            "670\n",
            "672\n",
            "674\n",
            "676\n",
            "678\n",
            "680\n",
            "682\n",
            "684\n",
            "686\n",
            "688\n",
            "690\n",
            "692\n",
            "694\n",
            "696\n",
            "698\n",
            "700\n",
            "702\n",
            "704\n",
            "706\n",
            "708\n",
            "710\n",
            "712\n",
            "714\n",
            "716\n",
            "718\n",
            "720\n",
            "722\n",
            "724\n",
            "726\n",
            "728\n",
            "730\n",
            "732\n",
            "734\n",
            "736\n",
            "738\n",
            "740\n",
            "742\n",
            "744\n",
            "746\n",
            "748\n",
            "750\n",
            "752\n",
            "754\n",
            "756\n",
            "758\n",
            "760\n",
            "762\n",
            "764\n",
            "766\n",
            "768\n",
            "770\n",
            "772\n",
            "774\n",
            "776\n",
            "778\n",
            "780\n",
            "782\n",
            "784\n",
            "786\n",
            "788\n",
            "790\n",
            "792\n",
            "794\n",
            "796\n",
            "798\n",
            "800\n",
            "802\n",
            "804\n",
            "806\n",
            "808\n",
            "810\n",
            "812\n",
            "814\n",
            "816\n",
            "818\n",
            "820\n",
            "822\n",
            "824\n",
            "826\n",
            "828\n",
            "830\n",
            "832\n",
            "834\n",
            "836\n",
            "838\n",
            "840\n",
            "842\n",
            "844\n",
            "846\n",
            "848\n",
            "850\n",
            "852\n",
            "854\n",
            "856\n",
            "858\n",
            "860\n",
            "862\n",
            "864\n",
            "866\n",
            "868\n",
            "870\n",
            "872\n",
            "874\n",
            "876\n",
            "878\n",
            "880\n",
            "882\n",
            "884\n",
            "886\n",
            "888\n",
            "890\n",
            "892\n",
            "894\n",
            "896\n",
            "898\n",
            "900\n",
            "902\n",
            "904\n",
            "906\n",
            "908\n",
            "910\n",
            "912\n",
            "914\n",
            "916\n",
            "918\n",
            "920\n",
            "922\n",
            "924\n",
            "926\n",
            "928\n",
            "930\n",
            "932\n",
            "934\n",
            "936\n",
            "938\n",
            "940\n",
            "942\n",
            "944\n",
            "946\n",
            "948\n",
            "950\n",
            "952\n",
            "954\n",
            "956\n",
            "958\n",
            "960\n",
            "962\n",
            "964\n",
            "966\n",
            "968\n",
            "970\n",
            "972\n",
            "974\n",
            "976\n",
            "978\n",
            "980\n",
            "982\n",
            "984\n",
            "986\n",
            "988\n",
            "990\n",
            "992\n",
            "994\n",
            "996\n",
            "998\n"
          ]
        }
      ]
    },
    {
      "cell_type": "markdown",
      "metadata": {
        "id": "PyOnx4sHpeId"
      },
      "source": [
        "## Exercise #2 <br>\n",
        "<p>Get first prime numbers up to 100</p>"
      ]
    },
    {
      "cell_type": "code",
      "metadata": {
        "colab": {
          "base_uri": "https://localhost:8080/"
        },
        "id": "SQf4BW-WpeId",
        "outputId": "a170aeb2-4e40-4991-9c5a-5231766f8277"
      },
      "source": [
        "num1 = 1\n",
        "num2 = 100\n",
        "for number in range(num1,num2+1):\n",
        "    if number>1:\n",
        "        for i in range(2,number):\n",
        "            if (number%i)==0:\n",
        "                break\n",
        "        else:\n",
        "            print(number)"
      ],
      "execution_count": null,
      "outputs": [
        {
          "output_type": "stream",
          "name": "stdout",
          "text": [
            "2\n",
            "3\n",
            "5\n",
            "7\n",
            "11\n",
            "13\n",
            "17\n",
            "19\n",
            "23\n",
            "29\n",
            "31\n",
            "37\n",
            "41\n",
            "43\n",
            "47\n",
            "53\n",
            "59\n",
            "61\n",
            "67\n",
            "71\n",
            "73\n",
            "79\n",
            "83\n",
            "89\n",
            "97\n"
          ]
        }
      ]
    },
    {
      "cell_type": "markdown",
      "metadata": {
        "id": "QjjsLZNfpeId"
      },
      "source": [
        "# Exercise 3 <br>\n",
        "<p>Take in a users input for their age, if they are younger than 18 print kids, if they're 18 to 65 print adults, else print seniors</p>"
      ]
    },
    {
      "cell_type": "code",
      "metadata": {
        "colab": {
          "base_uri": "https://localhost:8080/"
        },
        "id": "ZezDq_QZpeId",
        "outputId": "6881cd55-0a8b-4b5d-9850-87138a08e68b"
      },
      "source": [
        "age = input('What is your age? ')\n",
        "num1 = 18\n",
        "num2 = 65\n",
        "if int(age) < num1:\n",
        "  print('Kid')\n",
        "elif int(age) >= num1 and int(age) <= num2: \n",
        "  print('Adult')\n",
        "else:\n",
        "  print('Seniors')\n",
        "\n"
      ],
      "execution_count": null,
      "outputs": [
        {
          "output_type": "stream",
          "name": "stdout",
          "text": [
            "What is your age? 66\n",
            "Seniors\n"
          ]
        }
      ]
    },
    {
      "cell_type": "code",
      "metadata": {
        "id": "U1CdUiCNsGdR"
      },
      "source": [
        ""
      ],
      "execution_count": null,
      "outputs": []
    }
  ]
}